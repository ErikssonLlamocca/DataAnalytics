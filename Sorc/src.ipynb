{
 "cells": [
  {
   "cell_type": "code",
   "execution_count": 5,
   "metadata": {},
   "outputs": [],
   "source": [
    "import datetime # Tipo de dato para fechas y horas\n",
    "import pandas as pd # Manejo de datos tabulados\n",
    "import numpy as np # Algebra Lineal y operaciones matematicas\n",
    "import matplotlib.pyplot as plt # Graficos de datos\n",
    "import seaborn as sns # Graficos estadisticos\n",
    "import pandas_profiling as ppr # ?????????\n",
    "#import geopandas as gpd # Pandas para datos geograficos (Mapas!!)\n",
    "from fitter import Fitter # Ajuste de distribuciones de probs"
   ]
  },
  {
   "cell_type": "code",
   "execution_count": 6,
   "metadata": {},
   "outputs": [],
   "source": [
    "%matplotlib inline"
   ]
  },
  {
   "cell_type": "code",
   "execution_count": 7,
   "metadata": {},
   "outputs": [],
   "source": [
    "sns.set_theme(style=\"whitegrid\")"
   ]
  },
  {
   "cell_type": "code",
   "execution_count": 10,
   "metadata": {},
   "outputs": [],
   "source": [
    "# Leemos los datos seleccionados\n",
    "df_main = pd.read_csv('../Data/TB_HOSP_VAC_FALLECIDOS.csv')\n",
    "df_oxigen = pd.read_csv('../Data/Oxigeno_25-10-2021.csv', sep=\"|\")\n",
    "df_camas = pd.read_csv('../Data/Camas-14_03_2022.csv', sep=\"|\")"
   ]
  },
  {
   "cell_type": "code",
   "execution_count": 11,
   "metadata": {},
   "outputs": [
    {
     "data": {
      "text/plain": [
       "(136420, 136886)"
      ]
     },
     "execution_count": 11,
     "metadata": {},
     "output_type": "execute_result"
    }
   ],
   "source": [
    "# Validar integridad del identificador \"único\"\n",
    "len(df_main['id_persona'].unique()), df_main.shape[0]"
   ]
  },
  {
   "cell_type": "code",
   "execution_count": 13,
   "metadata": {},
   "outputs": [
    {
     "data": {
      "text/plain": [
       "0"
      ]
     },
     "execution_count": 13,
     "metadata": {},
     "output_type": "execute_result"
    }
   ],
   "source": [
    "# Nulos en id_persona\n",
    "df_main['id_persona'].isna().sum()"
   ]
  },
  {
   "cell_type": "code",
   "execution_count": 15,
   "metadata": {},
   "outputs": [
    {
     "data": {
      "text/plain": [
       "26422634    3\n",
       "29048330    3\n",
       "6054506     3\n",
       "6021317     2\n",
       "22061260    2\n",
       "Name: id_persona, dtype: int64"
      ]
     },
     "execution_count": 15,
     "metadata": {},
     "output_type": "execute_result"
    }
   ],
   "source": [
    "# Conteo de cuantas veces se duplican los id_persona\n",
    "filtro_duplicados = df_main['id_persona'].duplicated(keep=False)\n",
    "df_main[filtro_duplicados]['id_persona'].value_counts().head()"
   ]
  },
  {
   "cell_type": "code",
   "execution_count": null,
   "metadata": {},
   "outputs": [],
   "source": [
    "# TODO: Crear variable si fue reinfeccion (0, 1)\n",
    "# TODO: Crear variable con el # de la reinfeccion (1, 2, etc)"
   ]
  },
  {
   "cell_type": "code",
   "execution_count": 16,
   "metadata": {},
   "outputs": [
    {
     "name": "stdout",
     "output_type": "stream",
     "text": [
      "7935\n",
      "5.8 %\n"
     ]
    }
   ],
   "source": [
    "# Numero de valores perdidos / missings\n",
    "edad_na_count = df_main['edad'].isna().sum()\n",
    "print(edad_na_count)\n",
    "print(round(edad_na_count / df_main.shape[0] * 100, 2), '%')"
   ]
  },
  {
   "cell_type": "code",
   "execution_count": 17,
   "metadata": {},
   "outputs": [
    {
     "data": {
      "image/png": "[encoded data removed]",
      "text/plain": [
       "<Figure size 432x288 with 1 Axes>"
      ]
     },
     "metadata": {},
     "output_type": "display_data"
    }
   ],
   "source": [
    "df_main['edad'].hist()\n",
    "plt.show()"
   ]
  },
  {
   "cell_type": "code",
   "execution_count": 18,
   "metadata": {},
   "outputs": [
    {
     "data": {
      "text/plain": [
       "count    128951.000000\n",
       "mean         52.159192\n",
       "std          20.452300\n",
       "min           0.000000\n",
       "25%          37.000000\n",
       "50%          54.000000\n",
       "75%          68.000000\n",
       "max         111.000000\n",
       "Name: edad, dtype: float64"
      ]
     },
     "execution_count": 18,
     "metadata": {},
     "output_type": "execute_result"
    }
   ],
   "source": [
    "df_main['edad'].describe()"
   ]
  },
  {
   "cell_type": "code",
   "execution_count": 19,
   "metadata": {},
   "outputs": [
    {
     "data": {
      "text/plain": [
       "array([  0.        ,  15.85714286,  31.71428571,  47.57142857,\n",
       "        63.42857143,  79.28571429,  95.14285714, 111.        ])"
      ]
     },
     "execution_count": 19,
     "metadata": {},
     "output_type": "execute_result"
    }
   ],
   "source": [
    "counts, bins = np.histogram(df_main['edad'].dropna().values, bins=7)\n",
    "bins"
   ]
  },
  {
   "cell_type": "code",
   "execution_count": 20,
   "metadata": {},
   "outputs": [],
   "source": [
    "rangos_edad = [0, 5, 13, 18, 25, 40, 55, 65, 80, 95, 112]\n",
    "edad_bins = pd.cut(df_main['edad'], bins=rangos_edad)\n",
    "\n",
    "edad_bins_count = edad_bins.value_counts()"
   ]
  },
  {
   "cell_type": "code",
   "execution_count": 21,
   "metadata": {},
   "outputs": [
    {
     "data": {
      "text/plain": [
       "(40, 55]     29650\n",
       "(65, 80]     26267\n",
       "(25, 40]     25502\n",
       "(55, 65]     23408\n",
       "(80, 95]      9986\n",
       "(18, 25]      7521\n",
       "(5, 13]       2218\n",
       "(13, 18]      1956\n",
       "(0, 5]        1945\n",
       "(95, 112]      453\n",
       "Name: edad, dtype: int64"
      ]
     },
     "execution_count": 21,
     "metadata": {},
     "output_type": "execute_result"
    }
   ],
   "source": [
    "edad_bins_count"
   ]
  },
  {
   "cell_type": "code",
   "execution_count": 22,
   "metadata": {},
   "outputs": [
    {
     "data": {
      "text/plain": [
       "<AxesSubplot:>"
      ]
     },
     "execution_count": 22,
     "metadata": {},
     "output_type": "execute_result"
    },
    {
     "data": {
      "image/png": "[encoded data removed]",
      "text/plain": [
       "<Figure size 432x288 with 1 Axes>"
      ]
     },
     "metadata": {},
     "output_type": "display_data"
    }
   ],
   "source": [
    "edad_bins_count.sort_index().plot(kind='bar')"
   ]
  },
  {
   "cell_type": "code",
   "execution_count": 23,
   "metadata": {},
   "outputs": [],
   "source": [
    "df_main['edad_bins'] = edad_bins"
   ]
  },
  {
   "cell_type": "code",
   "execution_count": 24,
   "metadata": {},
   "outputs": [
    {
     "data": {
      "text/plain": [
       "(6934, 0.0506552898031939)"
      ]
     },
     "execution_count": 24,
     "metadata": {},
     "output_type": "execute_result"
    }
   ],
   "source": [
    "# Valores perdidos / missings\n",
    "df_main['sexo'].isna().sum(), df_main['sexo'].isna().sum() / df_main.shape[0]"
   ]
  },
  {
   "cell_type": "code",
   "execution_count": 25,
   "metadata": {},
   "outputs": [
    {
     "data": {
      "text/plain": [
       "(M    69306\n",
       " F    60646\n",
       " Name: sexo, dtype: int64,\n",
       " M    0.53332\n",
       " F    0.46668\n",
       " Name: sexo, dtype: float64)"
      ]
     },
     "execution_count": 25,
     "metadata": {},
     "output_type": "execute_result"
    }
   ],
   "source": [
    "df_main['sexo'].value_counts(), df_main['sexo'].value_counts(normalize=True)"
   ]
  },
  {
   "cell_type": "code",
   "execution_count": 26,
   "metadata": {},
   "outputs": [
    {
     "data": {
      "text/html": [
       "<div>\n",
       "<style scoped>\n",
       "    .dataframe tbody tr th:only-of-type {\n",
       "        vertical-align: middle;\n",
       "    }\n",
       "\n",
       "    .dataframe tbody tr th {\n",
       "        vertical-align: top;\n",
       "    }\n",
       "\n",
       "    .dataframe thead th {\n",
       "        text-align: right;\n",
       "    }\n",
       "</style>\n",
       "<table border=\"1\" class=\"dataframe\">\n",
       "  <thead>\n",
       "    <tr style=\"text-align: right;\">\n",
       "      <th></th>\n",
       "      <th>edad_bins</th>\n",
       "      <th>sexo</th>\n",
       "      <th>conteo</th>\n",
       "    </tr>\n",
       "  </thead>\n",
       "  <tbody>\n",
       "    <tr>\n",
       "      <th>0</th>\n",
       "      <td>(0, 5]</td>\n",
       "      <td>F</td>\n",
       "      <td>856</td>\n",
       "    </tr>\n",
       "    <tr>\n",
       "      <th>1</th>\n",
       "      <td>(0, 5]</td>\n",
       "      <td>M</td>\n",
       "      <td>1089</td>\n",
       "    </tr>\n",
       "    <tr>\n",
       "      <th>2</th>\n",
       "      <td>(5, 13]</td>\n",
       "      <td>F</td>\n",
       "      <td>933</td>\n",
       "    </tr>\n",
       "    <tr>\n",
       "      <th>3</th>\n",
       "      <td>(5, 13]</td>\n",
       "      <td>M</td>\n",
       "      <td>1285</td>\n",
       "    </tr>\n",
       "    <tr>\n",
       "      <th>4</th>\n",
       "      <td>(13, 18]</td>\n",
       "      <td>F</td>\n",
       "      <td>1323</td>\n",
       "    </tr>\n",
       "  </tbody>\n",
       "</table>\n",
       "</div>"
      ],
      "text/plain": [
       "  edad_bins sexo  conteo\n",
       "0    (0, 5]    F     856\n",
       "1    (0, 5]    M    1089\n",
       "2   (5, 13]    F     933\n",
       "3   (5, 13]    M    1285\n",
       "4  (13, 18]    F    1323"
      ]
     },
     "execution_count": 26,
     "metadata": {},
     "output_type": "execute_result"
    }
   ],
   "source": [
    "conteo_edad_x_sexo = (df_main[['edad_bins', 'sexo']].dropna() # Seleccion de columna y elimino NaNs\n",
    "                      .groupby(['edad_bins', 'sexo']).size() # Agrupo y cuento las obs. por intervalo de edad y sexo \n",
    "                      .reset_index() # Convierte a df \n",
    "                      .rename({0: 'conteo'}, axis=1)) # Cambia el nombre de \"0\" a \"conteo\"\n",
    "conteo_edad_x_sexo.head()"
   ]
  },
  {
   "cell_type": "code",
   "execution_count": 27,
   "metadata": {},
   "outputs": [
    {
     "data": {
      "image/png": "[encoded data removed]",
      "text/plain": [
       "<Figure size 408.85x360 with 1 Axes>"
      ]
     },
     "metadata": {},
     "output_type": "display_data"
    }
   ],
   "source": [
    "# Gráfica de barras de cantidad de personas por intervalo de edad en cada género\n",
    "g = sns.catplot(\n",
    "    data=conteo_edad_x_sexo, kind=\"bar\",\n",
    "    x=\"edad_bins\", y=\"conteo\", hue=\"sexo\",\n",
    ")\n",
    "g.set_xticklabels(rotation=90)\n",
    "plt.show()"
   ]
  },
  {
   "cell_type": "code",
   "execution_count": null,
   "metadata": {},
   "outputs": [],
   "source": []
  }
 ],
 "metadata": {
  "interpreter": {
   "hash": "f2c2db7bae42e3dfb6b439ab4000ef8363c92b0e5ca5c3c72bac1c1e60e094c1"
  },
  "kernelspec": {
   "display_name": "Python 3.10.2 ('.env': venv)",
   "language": "python",
   "name": "python3"
  },
  "language_info": {
   "codemirror_mode": {
    "name": "ipython",
    "version": 3
   },
   "file_extension": ".py",
   "mimetype": "text/x-python",
   "name": "python",
   "nbconvert_exporter": "python",
   "pygments_lexer": "ipython3",
   "version": "3.10.2"
  },
  "orig_nbformat": 4
 },
 "nbformat": 4,
 "nbformat_minor": 2
}
