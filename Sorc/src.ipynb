{
 "cells": [
  {
   "cell_type": "code",
   "execution_count": 2,
   "metadata": {},
   "outputs": [
    {
     "ename": "ModuleNotFoundError",
     "evalue": "No module named 'fitter'",
     "output_type": "error",
     "traceback": [
      "\u001b[1;31m---------------------------------------------------------------------------\u001b[0m",
      "\u001b[1;31mModuleNotFoundError\u001b[0m                       Traceback (most recent call last)",
      "\u001b[1;32mc:\\Users\\ERIKSSON\\Documents\\DataAnalytics\\src.ipynb Cell 1'\u001b[0m in \u001b[0;36m<cell line: 8>\u001b[1;34m()\u001b[0m\n\u001b[0;32m      <a href='vscode-notebook-cell:/c%3A/Users/ERIKSSON/Documents/DataAnalytics/src.ipynb#ch0000000?line=4'>5</a>\u001b[0m \u001b[39mimport\u001b[39;00m \u001b[39mseaborn\u001b[39;00m \u001b[39mas\u001b[39;00m \u001b[39msns\u001b[39;00m \u001b[39m# Graficos estadisticos\u001b[39;00m\n\u001b[0;32m      <a href='vscode-notebook-cell:/c%3A/Users/ERIKSSON/Documents/DataAnalytics/src.ipynb#ch0000000?line=5'>6</a>\u001b[0m \u001b[39m#import pandas_profiling as ppr # ?????????\u001b[39;00m\n\u001b[0;32m      <a href='vscode-notebook-cell:/c%3A/Users/ERIKSSON/Documents/DataAnalytics/src.ipynb#ch0000000?line=6'>7</a>\u001b[0m \u001b[39m#import geopandas as gpd # Pandas para datos geograficos (Mapas!!)\u001b[39;00m\n\u001b[1;32m----> <a href='vscode-notebook-cell:/c%3A/Users/ERIKSSON/Documents/DataAnalytics/src.ipynb#ch0000000?line=7'>8</a>\u001b[0m \u001b[39mfrom\u001b[39;00m \u001b[39mfitter\u001b[39;00m \u001b[39mimport\u001b[39;00m Fitter\n",
      "\u001b[1;31mModuleNotFoundError\u001b[0m: No module named 'fitter'"
     ]
    }
   ],
   "source": [
    "import datetime # Tipo de dato para fechas y horas\n",
    "import pandas as pd # Manejo de datos tabulados\n",
    "import numpy as np # Algebra Lineal y operaciones matematicas\n",
    "import matplotlib.pyplot as plt # Graficos de datos\n",
    "import seaborn as sns # Graficos estadisticos\n",
    "#import pandas_profiling as ppr # ?????????\n",
    "#import geopandas as gpd # Pandas para datos geograficos (Mapas!!)\n",
    "from fitter import Fitter # Ajuste de distribuciones de probs"
   ]
  }
 ],
 "metadata": {
  "interpreter": {
   "hash": "f2c2db7bae42e3dfb6b439ab4000ef8363c92b0e5ca5c3c72bac1c1e60e094c1"
  },
  "kernelspec": {
   "display_name": "Python 3.10.2 ('.env': venv)",
   "language": "python",
   "name": "python3"
  },
  "language_info": {
   "codemirror_mode": {
    "name": "ipython",
    "version": 3
   },
   "file_extension": ".py",
   "mimetype": "text/x-python",
   "name": "python",
   "nbconvert_exporter": "python",
   "pygments_lexer": "ipython3",
   "version": "3.10.2"
  },
  "orig_nbformat": 4
 },
 "nbformat": 4,
 "nbformat_minor": 2
}
